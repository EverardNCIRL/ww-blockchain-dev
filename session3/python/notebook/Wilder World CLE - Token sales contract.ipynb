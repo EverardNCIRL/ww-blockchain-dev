{
 "cells": [
  {
   "cell_type": "markdown",
   "id": "d50b30c9",
   "metadata": {},
   "source": [
    "# Lesson 3 : Deploying a token sales contract\n",
    "\n",
    "\n",
    "## Writing a smart contract that allows sales of our token from last week.\n",
    "\n",
    "We will be using the Crowdsales Open Zeppelin contract as our base contract\n",
    "https://docs.openzeppelin.com/contracts/2.x/crowdsales\n",
    "\n",
    "## Deploying to testnet \n",
    "## Writing python code to interact with our new sales contract\n"
   ]
  },
  {
   "cell_type": "markdown",
   "id": "b5c4d69d",
   "metadata": {},
   "source": [
    "### Load all the python libraries that we need to use"
   ]
  },
  {
   "cell_type": "code",
   "execution_count": 65,
   "id": "94046df6",
   "metadata": {},
   "outputs": [],
   "source": [
    "from web3 import Web3\n",
    "from datetime import datetime\n",
    "\n",
    "import urllib\n",
    "import json\n",
    "import pandas as pd"
   ]
  },
  {
   "cell_type": "markdown",
   "id": "f72eba44",
   "metadata": {},
   "source": [
    "### Load our API and pvt keys \n"
   ]
  },
  {
   "cell_type": "code",
   "execution_count": 66,
   "id": "3493ea7c",
   "metadata": {},
   "outputs": [],
   "source": [
    "with open(\"..\\..\\.env\", \"r\") as f:\n",
    "    keys = f.read().splitlines()\n",
    "    \n",
    "for key in keys:\n",
    "    if \"ETHERSCAN_API_KEY\" in key: etherscan_apikey = key.split('=')[1].strip('\\\"')\n",
    "    if \"ALCHEMY_KEY\" in key: alchemy_apikey = key.split('=')[1].strip('\\\"')\n",
    "    if \"ACCOUNT_PRIVATE_KEY\" in key: pvt_key = key.split('=')[1].strip('\\\"')\n",
    "    "
   ]
  },
  {
   "cell_type": "code",
   "execution_count": 68,
   "id": "48a75f5d",
   "metadata": {},
   "outputs": [
    {
     "data": {
      "text/plain": [
       "['ALCHEMY_KEY=\"Zdb0qaudUc4fy_YlXRa7ITo2peFRxMdz\"',\n",
       " 'ACCOUNT_PRIVATE_KEY=\"2b7cc1a151c14ff915a2b346a664b3152511025b042415ea169286603d5698b9\"',\n",
       " 'ETHERSCAN_API_KEY=\"TSF54QMFT7G6V9YU478K3FTBBFNFGN47BA\"']"
      ]
     },
     "execution_count": 68,
     "metadata": {},
     "output_type": "execute_result"
    }
   ],
   "source": [
    "keys"
   ]
  },
  {
   "cell_type": "markdown",
   "id": "c67df7cf",
   "metadata": {},
   "source": [
    "### Connect to the Alchemy provider\n",
    "To interact with the Ethereum blockchain, we either need to run a geth node on our machine, or we can use a third party provider like Alchemy or Infura"
   ]
  },
  {
   "cell_type": "code",
   "execution_count": 69,
   "id": "c141c290",
   "metadata": {},
   "outputs": [
    {
     "name": "stdout",
     "output_type": "stream",
     "text": [
      "True\n"
     ]
    }
   ],
   "source": [
    "wss = f'wss://eth-goerli.g.alchemy.com/v2/{alchemy_apikey}'\n",
    "wss = f'wss://eth-sepolia.g.alchemy.com/v2/{alchemy_apikey}'\n",
    "w3 = Web3(Web3.WebsocketProvider(wss))\n",
    "\n",
    "print(w3.is_connected())"
   ]
  },
  {
   "cell_type": "code",
   "execution_count": 49,
   "id": "9e2eeed8",
   "metadata": {},
   "outputs": [
    {
     "data": {
      "text/plain": [
       "11155111"
      ]
     },
     "execution_count": 49,
     "metadata": {},
     "output_type": "execute_result"
    }
   ],
   "source": [
    "#We should be connected to chain_id 5, i.e. Goerli testnet, or 11155111 for Sepolia\n",
    "w3.eth.chain_id"
   ]
  },
  {
   "cell_type": "markdown",
   "id": "19fa4ec4",
   "metadata": {},
   "source": [
    "### Token contract addresses \n",
    "\n",
    "Normally we would like to use the proxy pattern, but in this case we are using Open Zeppelin's Crowdsale contract which is only available in non-upgradeable form. We could re-write it as an upgradeable in the future"
   ]
  },
  {
   "cell_type": "code",
   "execution_count": 19,
   "id": "2b82400d",
   "metadata": {},
   "outputs": [],
   "source": [
    "# TokenSale Contract Address\n",
    "tokensale_contract = '0x856820ee9EE8137D1c651689Ab6D548f5ac81fA1'\n",
    "\n",
    "# whipz contracts\n",
    "# Implementation Address\n",
    "whipz_implementation_contract = '0x7006fae1c7746b3aee4baabb3941875984090252'\n",
    "\n",
    "whipz_proxy = '0x9f154d7b7a00a2a280733409aea309d2aea496f8'"
   ]
  },
  {
   "cell_type": "markdown",
   "id": "b7dc6914",
   "metadata": {},
   "source": [
    "### Load the ABI (Application Binary Interface) for both contracts\n",
    "\n",
    "The ABI defines all the functions and function parameters of the smart contract. We need this info if we want to make calls to the contract"
   ]
  },
  {
   "cell_type": "code",
   "execution_count": 26,
   "id": "74cf199b",
   "metadata": {},
   "outputs": [],
   "source": [
    "def get_contract(impl_contract, proxy_contract):\n",
    "\n",
    "    abi_endpoint = f\"https://api-sepolia.etherscan.io/api?module=contract&action=getabi&address={impl_contract}&apikey={etherscan_apikey}\"\n",
    "    \n",
    "    # Get the abi in json format from the etherscan API and decode it\n",
    "    with urllib.request.urlopen(abi_endpoint) as url:\n",
    "        abi = json.loads(url.read().decode())\n",
    "\n",
    "    # Load this into the web3 contract object\n",
    "    checksum_addr = Web3.to_checksum_address(proxy_contract)\n",
    "    contract = w3.eth.contract(address=checksum_addr, abi=abi[\"result\"])\n",
    "    return contract\n"
   ]
  },
  {
   "cell_type": "code",
   "execution_count": 27,
   "id": "2fc8c74c",
   "metadata": {},
   "outputs": [],
   "source": [
    "whipzcontract = get_contract(whipz_implementation_contract, whipz_proxy)"
   ]
  },
  {
   "cell_type": "code",
   "execution_count": 28,
   "id": "b0da2e2d",
   "metadata": {},
   "outputs": [],
   "source": [
    "tokensales_contract = get_contract(tokensale_contract, tokensale_contract)"
   ]
  },
  {
   "cell_type": "code",
   "execution_count": 30,
   "id": "9dd2d13b",
   "metadata": {},
   "outputs": [
    {
     "data": {
      "text/plain": [
       "1000000"
      ]
     },
     "execution_count": 30,
     "metadata": {},
     "output_type": "execute_result"
    }
   ],
   "source": [
    "tokensales_contract.functions.rate().call()"
   ]
  },
  {
   "cell_type": "code",
   "execution_count": 57,
   "id": "71ab989f",
   "metadata": {},
   "outputs": [
    {
     "data": {
      "text/plain": [
       "99999999999999991433150857216"
      ]
     },
     "execution_count": 57,
     "metadata": {},
     "output_type": "execute_result"
    }
   ],
   "source": [
    "whipzcontract.functions.totalSupply().call()"
   ]
  },
  {
   "cell_type": "code",
   "execution_count": 32,
   "id": "7c4d5e4d",
   "metadata": {},
   "outputs": [
    {
     "data": {
      "text/plain": [
       "'WhipzToken'"
      ]
     },
     "execution_count": 32,
     "metadata": {},
     "output_type": "execute_result"
    }
   ],
   "source": [
    "whipzcontract.functions.name().call()"
   ]
  },
  {
   "cell_type": "code",
   "execution_count": 33,
   "id": "fa9a1da8",
   "metadata": {},
   "outputs": [
    {
     "data": {
      "text/plain": [
       "'WHIPZ'"
      ]
     },
     "execution_count": 33,
     "metadata": {},
     "output_type": "execute_result"
    }
   ],
   "source": [
    "whipzcontract.functions. symbol().call()"
   ]
  },
  {
   "cell_type": "markdown",
   "id": "e321286e",
   "metadata": {},
   "source": [
    "# Give the TokenSale contract approval to spend Whipz"
   ]
  },
  {
   "cell_type": "code",
   "execution_count": 37,
   "id": "121cba10",
   "metadata": {},
   "outputs": [],
   "source": [
    "MAX_INT = 2**256 - 1\n",
    "admin_wallet = '0xa90B01e34D5eB0eF48ece9F23c4c953568440147'\n",
    "nonce = w3.eth.get_transaction_count(admin_wallet)\n",
    "GAS_AMOUNT= 100000"
   ]
  },
  {
   "cell_type": "code",
   "execution_count": 38,
   "id": "d6ed3741",
   "metadata": {},
   "outputs": [],
   "source": [
    "call_function = whipzcontract.functions.approve(\n",
    "    tokensale_contract, MAX_INT).build_transaction(\n",
    "    {\"chainId\": w3.eth.chain_id,\n",
    "     \"from\": admin_wallet,\n",
    "     \"nonce\": nonce,\n",
    "     'gas': GAS_AMOUNT,\n",
    "#      'value': total_amt,\n",
    "     'maxFeePerGas': w3.to_wei(100, 'gwei'),\n",
    "     'maxPriorityFeePerGas': w3.to_wei(1, 'gwei'), })"
   ]
  },
  {
   "cell_type": "code",
   "execution_count": 39,
   "id": "56f6068d",
   "metadata": {},
   "outputs": [],
   "source": [
    "signed_tx = w3.eth.account.sign_transaction(call_function, private_key=pvt_key)"
   ]
  },
  {
   "cell_type": "code",
   "execution_count": 40,
   "id": "e29e9412",
   "metadata": {},
   "outputs": [],
   "source": [
    "send_tx = w3.eth.send_raw_transaction(signed_tx.rawTransaction)"
   ]
  },
  {
   "cell_type": "code",
   "execution_count": 41,
   "id": "aeb0ef3e",
   "metadata": {},
   "outputs": [
    {
     "data": {
      "text/plain": [
       "HexBytes('0xb0ba77d749c4bd06bb8f9c9ee639255c232a44d5ad47838c8015449333115c43')"
      ]
     },
     "execution_count": 41,
     "metadata": {},
     "output_type": "execute_result"
    }
   ],
   "source": [
    "send_tx"
   ]
  },
  {
   "cell_type": "markdown",
   "id": "9061e3c4",
   "metadata": {},
   "source": [
    "# Mint Whipz to TokenSale address"
   ]
  },
  {
   "cell_type": "code",
   "execution_count": 70,
   "id": "e17aea32",
   "metadata": {},
   "outputs": [],
   "source": [
    "mint_amount =  int(10e18 * 10e9)\n",
    "nonce = w3.eth.get_transaction_count(admin_wallet)"
   ]
  },
  {
   "cell_type": "code",
   "execution_count": 54,
   "id": "34f958dd",
   "metadata": {},
   "outputs": [],
   "source": [
    "call_function2 = whipzcontract.functions.mint(\n",
    "    tokensale_contract, mint_amount).build_transaction(\n",
    "    {\"chainId\": w3.eth.chain_id,\n",
    "     \"from\": admin_wallet,\n",
    "     \"nonce\": nonce,\n",
    "     'gas': GAS_AMOUNT,\n",
    "#      'value': total_amt,\n",
    "     'maxFeePerGas': w3.to_wei(100, 'gwei'),\n",
    "     'maxPriorityFeePerGas': w3.to_wei(1, 'gwei'), })"
   ]
  },
  {
   "cell_type": "code",
   "execution_count": 55,
   "id": "a14f7307",
   "metadata": {},
   "outputs": [],
   "source": [
    "signed_tx = w3.eth.account.sign_transaction(call_function2, private_key=pvt_key)"
   ]
  },
  {
   "cell_type": "code",
   "execution_count": 56,
   "id": "6d206a37",
   "metadata": {},
   "outputs": [
    {
     "data": {
      "text/plain": [
       "HexBytes('0x49856dd21c024a92740cf7035eb5efd100553e4585df19179bcac0cfad72f6f3')"
      ]
     },
     "execution_count": 56,
     "metadata": {},
     "output_type": "execute_result"
    }
   ],
   "source": [
    "send_tx = w3.eth.send_raw_transaction(signed_tx.rawTransaction)\n",
    "send_tx"
   ]
  },
  {
   "cell_type": "markdown",
   "id": "17d13819",
   "metadata": {},
   "source": [
    "# Purchase Whipz from the TokenSale "
   ]
  },
  {
   "cell_type": "code",
   "execution_count": 71,
   "id": "091dd0db",
   "metadata": {},
   "outputs": [],
   "source": [
    "purchase_amt = 0.01 #this is the amount of ETH we are buying with\n",
    "\n",
    "nonce = w3.eth.get_transaction_count(admin_wallet)"
   ]
  },
  {
   "cell_type": "code",
   "execution_count": 72,
   "id": "b08f0875",
   "metadata": {},
   "outputs": [],
   "source": [
    "call_function3 = tokensales_contract.functions.buyTokens(admin_wallet).build_transaction(\n",
    "    {\"chainId\": w3.eth.chain_id,\n",
    "     \"from\": admin_wallet,\n",
    "     \"nonce\": nonce,\n",
    "     'gas': GAS_AMOUNT,\n",
    "     'value': w3.to_wei(purchase_amt, 'ether'),\n",
    "     'maxFeePerGas': w3.to_wei(100, 'gwei'),\n",
    "     'maxPriorityFeePerGas': w3.to_wei(1, 'gwei'), })"
   ]
  },
  {
   "cell_type": "code",
   "execution_count": 73,
   "id": "9337fe60",
   "metadata": {},
   "outputs": [],
   "source": [
    "signed_tx = w3.eth.account.sign_transaction(call_function3, private_key=pvt_key)"
   ]
  },
  {
   "cell_type": "code",
   "execution_count": 74,
   "id": "5061ac57",
   "metadata": {},
   "outputs": [
    {
     "data": {
      "text/plain": [
       "HexBytes('0x7f190f6e9c1f21506a353f77cd4fcb428c91ade8a8eecba4600b5fc2c9043e38')"
      ]
     },
     "execution_count": 74,
     "metadata": {},
     "output_type": "execute_result"
    }
   ],
   "source": [
    "send_tx = w3.eth.send_raw_transaction(signed_tx.rawTransaction)\n",
    "send_tx"
   ]
  },
  {
   "cell_type": "code",
   "execution_count": null,
   "id": "927fe2f3",
   "metadata": {},
   "outputs": [],
   "source": []
  }
 ],
 "metadata": {
  "kernelspec": {
   "display_name": "Python 3 (ipykernel)",
   "language": "python",
   "name": "python3"
  },
  "language_info": {
   "codemirror_mode": {
    "name": "ipython",
    "version": 3
   },
   "file_extension": ".py",
   "mimetype": "text/x-python",
   "name": "python",
   "nbconvert_exporter": "python",
   "pygments_lexer": "ipython3",
   "version": "3.10.9"
  }
 },
 "nbformat": 4,
 "nbformat_minor": 5
}
