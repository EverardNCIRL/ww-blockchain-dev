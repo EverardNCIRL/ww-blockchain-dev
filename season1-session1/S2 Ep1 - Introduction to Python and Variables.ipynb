{
 "cells": [
  {
   "cell_type": "markdown",
   "id": "fdab06d0-3575-4604-bd29-8e482fd1f7b8",
   "metadata": {},
   "source": [
    "# Session 1: Introduction to Python and Variables"
   ]
  },
  {
   "cell_type": "markdown",
   "id": "c3ab447f-6353-4766-852c-10ccaf07989b",
   "metadata": {},
   "source": [
    "## Introduction\n",
    "Welcome to the first session of our coding fundamentals course using Python! Today, we'll cover the basics of Python and learn about variables. Before we dive into coding, let's understand what a program does and how computers work.\n"
   ]
  },
  {
   "cell_type": "markdown",
   "id": "ec4d71b4-bc07-4ce9-a6e0-6e14963f05d9",
   "metadata": {},
   "source": [
    "## What Does a Program Do?\n",
    "A program is a set of instructions that a computer follows to perform a specific task. These instructions are written in a programming language that the computer can understand. Programs can range from simple tasks like adding two numbers to complex operations like running a video game or managing a database.\n",
    "\n",
    "### How Computer Operations Work\n",
    "1. **Input**: The computer receives data or instructions from various input devices (keyboard, mouse, sensors, etc.).\n",
    "2. **Processing**: The computer's CPU (Central Processing Unit) processes the data according to the program's instructions.\n",
    "3. **Output**: The computer sends the processed data to output devices (monitor, printer, etc.) to display results.\n",
    "4. **Storage**: The computer stores data in memory or storage devices for future use.\n",
    "\n",
    "Understanding these basic operations helps in grasping how programs interact with computer hardware to perform tasks.\n"
   ]
  },
  {
   "cell_type": "markdown",
   "id": "e0469429-811d-4080-a8d3-a5624f3b03a9",
   "metadata": {},
   "source": [
    "## The Python Language and Interpreter\n",
    "Python is a popular, high-level programming language known for its readability and versatility. It is widely used in various fields such as web development, data analysis, artificial intelligence, and scientific computing.\n"
   ]
  },
  {
   "cell_type": "markdown",
   "id": "61ef8e51-ed4a-4566-a7b5-a9e4107f7021",
   "metadata": {},
   "source": [
    "### Why Python?\n",
    "- **Readability**: Python's syntax is clear and easy to understand, making it a great choice for beginners.\n",
    "- **Versatility**: Python can be used for web development, data analysis, automation, scientific computing, and more.\n",
    "- **Community**: Python has a large and active community that contributes to a rich ecosystem of libraries and frameworks.\n",
    "\n",
    "### The Python Interpreter\n",
    "The Python interpreter is a program that reads and executes Python code. When you write Python code, you can run it using the interpreter, which translates your code into machine language that the computer can understand.\n",
    "\n",
    "### Running Python Code\n",
    "You can run Python code in several ways:\n",
    "- **Interactive Mode**: Type `python` in your terminal or command prompt to enter the interactive mode, where you can type and execute code line by line.\n",
    "- **Script Mode**: Write your Python code in a text file with a `.py` extension and run it using the command `python filename.py`.\n",
    "- **Integrated Development Environment (IDE)**: Use an IDE like PyCharm, VSCode, or Jupyter Notebook (where we are now) for a more feature-rich coding experience.\n",
    "\n",
    "## Variables\n",
    "Variables are used to store data that can be used later in your program. In Python, you don't need to declare the type of a variable, and you can assign a value to a variable using the `=` operator.\n"
   ]
  },
  {
   "cell_type": "markdown",
   "id": "fcdf208d-aa6c-46d4-8d7b-3bca26d85e4f",
   "metadata": {},
   "source": [
    "### Example\n",
    "```python\n",
    "# Assigning values to variables\n",
    "x = 5\n",
    "y = \"Hello, World!\""
   ]
  },
  {
   "cell_type": "code",
   "execution_count": null,
   "id": "5bda9150-aece-45d8-8a5e-b329a562d209",
   "metadata": {},
   "outputs": [],
   "source": [
    "x = 5\n",
    "y = \"Hello, World!\""
   ]
  },
  {
   "cell_type": "code",
   "execution_count": null,
   "id": "1679913b-8f51-4228-91c1-6a723128f0ab",
   "metadata": {},
   "outputs": [],
   "source": [
    "# Printing variables\n",
    "print(x)\n",
    "print(y)"
   ]
  },
  {
   "cell_type": "code",
   "execution_count": null,
   "id": "be52f128-3303-49d5-8968-3628dae191f8",
   "metadata": {},
   "outputs": [],
   "source": []
  },
  {
   "cell_type": "code",
   "execution_count": null,
   "id": "9aaaf10f-49f1-4b1d-97ee-e3c88b6373fa",
   "metadata": {},
   "outputs": [],
   "source": [
    "\n",
    "name = \"Alice\"\n",
    "age = 30\n",
    "hobby = \"Reading\"\n",
    "\n",
    "print(name)\n",
    "print(age)\n",
    "print(hobby)"
   ]
  },
  {
   "cell_type": "markdown",
   "id": "b8d00569-1e3a-410b-8e1c-ecc6f7d4cbcc",
   "metadata": {},
   "source": [
    "### Data Types \n",
    "Python has several built-in data types, including:\n",
    "\n",
    "- Integers (int)\n",
    "- Floating-point numbers (float)\n",
    "- Strings (str)\n",
    "- Booleans (bool)"
   ]
  },
  {
   "cell_type": "code",
   "execution_count": null,
   "id": "15b6fb6a-d355-45a9-b8b0-2c0d7e670081",
   "metadata": {
    "scrolled": true
   },
   "outputs": [],
   "source": [
    "# Different data types\n",
    "a = 10         # int\n",
    "b = 3.14       # float\n",
    "c = \"Python\"   # str\n",
    "d = True       # bool\n",
    "\n",
    "print(type(a))\n",
    "print(type(b))\n",
    "print(type(c))\n",
    "print(type(d))\n"
   ]
  },
  {
   "cell_type": "markdown",
   "id": "4ac53fb9-fe66-419d-895c-1e8c22bf4f20",
   "metadata": {},
   "source": [
    "## Dictionary\n",
    "\n",
    "The dictionary is a commonly used data structure which consists of key:value pairs\n",
    "It allows fast access to data if you know a key, and python allows various ways to access or find a key in a dictionary"
   ]
  },
  {
   "cell_type": "code",
   "execution_count": null,
   "id": "6fac51cd-5f87-4dc6-a01a-378605ccd606",
   "metadata": {},
   "outputs": [],
   "source": [
    "ages = {\n",
    "    'john' : 4,\n",
    "    'anna' : 12,\n",
    "    'brian' : 7    \n",
    "}\n",
    "\n",
    "# Get anna's age\n",
    "print(f\"The age of anna is {ages['anna']}\")"
   ]
  },
  {
   "cell_type": "code",
   "execution_count": null,
   "id": "bfb34138-5747-46a4-81bc-1e8791435979",
   "metadata": {},
   "outputs": [],
   "source": [
    "# Add a new entry\n",
    "\n",
    "ages['tom'] = 8\n",
    "\n",
    "# Remove an entry\n",
    "ages.pop('john',\"\")\n",
    "\n",
    "# Get all the keys in the dictionary\n",
    "for key in ages.keys():\n",
    "    print(key)\n"
   ]
  },
  {
   "cell_type": "markdown",
   "id": "10b4ec78-6d19-4702-8645-8d207a07861d",
   "metadata": {
    "jp-MarkdownHeadingCollapsed": true
   },
   "source": [
    "## Conclusion\n",
    "\n",
    "In this session, we've covered the basics of Python and learned about variables. We also explored what a program does and how computer operations work. Practice creating and using variables with different data types to strengthen your understanding. In the next session, we'll dive into control flow with conditionals and loops."
   ]
  },
  {
   "cell_type": "code",
   "execution_count": null,
   "id": "916939ba-d87d-4c74-9577-536ddbe2af21",
   "metadata": {},
   "outputs": [],
   "source": []
  }
 ],
 "metadata": {
  "kernelspec": {
   "display_name": "Python 3 (ipykernel)",
   "language": "python",
   "name": "python3"
  },
  "language_info": {
   "codemirror_mode": {
    "name": "ipython",
    "version": 3
   },
   "file_extension": ".py",
   "mimetype": "text/x-python",
   "name": "python",
   "nbconvert_exporter": "python",
   "pygments_lexer": "ipython3",
   "version": "3.12.4"
  }
 },
 "nbformat": 4,
 "nbformat_minor": 5
}
