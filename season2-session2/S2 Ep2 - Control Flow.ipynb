{
 "cells": [
  {
   "cell_type": "markdown",
   "id": "08053b08",
   "metadata": {},
   "source": [
    "# Session 2: Control Flow (Conditionals and Loops)\n",
    "\n",
    "## Introduction\n",
    "Welcome to the second session of our coding fundamentals course using Python! Today, we'll learn how to control the flow of our programs using conditionals and loops.\n",
    "\n",
    "## Conditionals\n",
    "Conditionals allow us to execute certain blocks of code based on specific conditions. The main conditional statements in Python are `if`, `elif`, and `else`.\n",
    "\n",
    "### If Statement\n",
    "The `if` statement is used to test a condition. If the condition is `True`, the block of code inside the `if` statement is executed.\n",
    "\n"
   ]
  },
  {
   "cell_type": "code",
   "execution_count": null,
   "id": "8cf7ddca",
   "metadata": {},
   "outputs": [],
   "source": [
    "# If statement example\n",
    "age = 17\n",
    "\n",
    "if age >= 18:\n",
    "    print(\"You are an adult.\")\n"
   ]
  },
  {
   "cell_type": "markdown",
   "id": "96582fe4",
   "metadata": {},
   "source": [
    "# If-Else Statement\n",
    "\n",
    "The else statement can be used to execute a block of code if the condition in the if statement is False."
   ]
  },
  {
   "cell_type": "code",
   "execution_count": null,
   "id": "7a3915d2",
   "metadata": {},
   "outputs": [],
   "source": [
    "# If-Else statement example\n",
    "age = 19\n",
    "\n",
    "if age >= 18:\n",
    "    print(\"You are an adult.\")\n",
    "else:\n",
    "    print(\"You are a minor.\")\n"
   ]
  },
  {
   "cell_type": "markdown",
   "id": "582e416e",
   "metadata": {},
   "source": [
    "# If-Elif-Else Statement\n",
    "The elif statement allows you to check multiple expressions for True and execute a block of code as soon as one of the conditions is True."
   ]
  },
  {
   "cell_type": "code",
   "execution_count": null,
   "id": "da56ffd8",
   "metadata": {},
   "outputs": [],
   "source": [
    "# If-Elif-Else statement example\n",
    "age = 19\n",
    "\n",
    "if age < 13:\n",
    "    print(\"You are a child.\")\n",
    "elif age <= 18:\n",
    "    print(\"You are a teenager.\")\n",
    "elif age < 40:\n",
    "    print(\"You are less than 40.\")\n",
    "elif age < 60:\n",
    "    print(\"You are less than 60.\")\n",
    "else:\n",
    "    print(\"You are an adult.\")\n"
   ]
  },
  {
   "cell_type": "markdown",
   "id": "b346e3af",
   "metadata": {},
   "source": [
    "# Exercise 1\n",
    "Write a program that checks if a number is positive, negative, or zero.\n",
    "\n",
    "Tip: you may find the less than < and greater than > operators useful"
   ]
  },
  {
   "cell_type": "code",
   "execution_count": null,
   "id": "63cf5cb6",
   "metadata": {},
   "outputs": [],
   "source": [
    "number = -1\n",
    "\n",
    "if number < 0:\n",
    "    print(\"this is negative\")\n",
    "elif number > 0:\n",
    "    print(\"this is positive\")\n",
    "else:\n",
    "    print(\"this is zero\")"
   ]
  },
  {
   "cell_type": "markdown",
   "id": "1fb2552f",
   "metadata": {},
   "source": [
    "# Loops\n",
    "Loops are used to repeat a block of code multiple times. The two main types of loops in Python are for and while.\n",
    "\n",
    "## for Loop\n",
    "The for loop is used to iterate over a sequence (like a list, tuple, or string).\n",
    "\n",
    "Example"
   ]
  },
  {
   "cell_type": "code",
   "execution_count": null,
   "id": "d5c19d72",
   "metadata": {},
   "outputs": [],
   "source": [
    "# For loop example\n",
    "fruits = [\"apple\", \"banana\", \"cherry\"]\n",
    "\n",
    "for fruit in fruits:\n",
    "    print(fruit)\n"
   ]
  },
  {
   "cell_type": "markdown",
   "id": "108973b2",
   "metadata": {},
   "source": [
    "# Exercise 2\n",
    "Write a program that prints the numbers from 1 to 10 using a for loop.\n",
    "\n",
    "Tip: you may find it useful to use the ````range```` object, where ````range(x, y)```` gives a list of numbers (x, x+1, ..., y-1)  "
   ]
  },
  {
   "cell_type": "code",
   "execution_count": null,
   "id": "efb6b523",
   "metadata": {},
   "outputs": [],
   "source": [
    "for item in range(1,11):\n",
    "    print(item)"
   ]
  },
  {
   "cell_type": "markdown",
   "id": "a085405d",
   "metadata": {},
   "source": [
    "# while Loop\n",
    "The while loop repeats a block of code as long as a condition is true."
   ]
  },
  {
   "cell_type": "code",
   "execution_count": null,
   "id": "98c9add2",
   "metadata": {},
   "outputs": [],
   "source": [
    "# While loop example\n",
    "count = 1\n",
    "\n",
    "while count <= 5:\n",
    "    print(count)\n",
    "    count += 1\n"
   ]
  },
  {
   "cell_type": "markdown",
   "id": "c0fcc809",
   "metadata": {},
   "source": [
    "# Exercise 3\n",
    "Write a program that prints the numbers from 10 to 1 using a while loop\n"
   ]
  },
  {
   "cell_type": "code",
   "execution_count": null,
   "id": "80841dac",
   "metadata": {},
   "outputs": [],
   "source": [
    "count = 10\n",
    "\n",
    "while count > 0:\n",
    "    print(count)\n",
    "    count -= 1"
   ]
  },
  {
   "cell_type": "markdown",
   "id": "9194c56f",
   "metadata": {},
   "source": [
    "# Nested Loops\n",
    "You can also use loops inside loops. This is called nested loops."
   ]
  },
  {
   "cell_type": "code",
   "execution_count": null,
   "id": "df38015a",
   "metadata": {},
   "outputs": [],
   "source": [
    "# Nested loop example\n",
    "for i in range(1, 4):\n",
    "    for j in range(1, 4):\n",
    "        print(f\"i = {i}, j = {j}\")\n"
   ]
  },
  {
   "cell_type": "markdown",
   "id": "22782fa5",
   "metadata": {},
   "source": [
    "# Exercise 4\n",
    "Write a program that prints a 3x3 grid of numbers using nested loops.\n",
    "\n",
    "eg\n",
    "\n",
    "````1 2 3 ````<br>\n",
    "````1 2 3 ````<br>\n",
    "````1 2 3 ````<br>\n",
    "\n",
    "Tip: ````print```` by default adds a new line after each call. \n",
    "To avoid doing this, you can use a space for the end character: ````print(j, end=' ')````"
   ]
  },
  {
   "cell_type": "code",
   "execution_count": null,
   "id": "d690465d",
   "metadata": {},
   "outputs": [],
   "source": [
    "for i in range(1, 4):\n",
    "    for j in range(1, 4):\n",
    "        print(j, end=' ')\n",
    "    print(\"\")"
   ]
  },
  {
   "cell_type": "markdown",
   "id": "44c62423",
   "metadata": {},
   "source": [
    "# Break and Continue Statements\n",
    "The break statement is used to exit a loop prematurely, while the continue statement is used to skip the current iteration and proceed to the next iteration.\n",
    "\n",
    "## Break Statement\n",
    "Example"
   ]
  },
  {
   "cell_type": "code",
   "execution_count": null,
   "id": "bfbf923a",
   "metadata": {},
   "outputs": [],
   "source": [
    "# Break statement example\n",
    "for i in range(1, 6):\n",
    "    if i == 3:\n",
    "        break\n",
    "    print(i)\n"
   ]
  },
  {
   "cell_type": "markdown",
   "id": "3662fc1a",
   "metadata": {},
   "source": [
    "# Continue Statement\n",
    "Example"
   ]
  },
  {
   "cell_type": "code",
   "execution_count": null,
   "id": "6abfba95",
   "metadata": {},
   "outputs": [],
   "source": [
    "# Continue statement example\n",
    "for i in range(1, 6):\n",
    "    if i == 3:\n",
    "        continue\n",
    "    print(i)\n"
   ]
  },
  {
   "cell_type": "markdown",
   "id": "c6cafd90",
   "metadata": {},
   "source": [
    "# Exercise 5\n",
    "Write a program that prints numbers from 1 to 10, but skips the numbers 3 and 5."
   ]
  },
  {
   "cell_type": "code",
   "execution_count": null,
   "id": "59ad2188",
   "metadata": {},
   "outputs": [],
   "source": []
  },
  {
   "cell_type": "markdown",
   "id": "e938a436",
   "metadata": {},
   "source": [
    "# Conclusion\n",
    "In this session, we've covered the basics of control flow in Python, including conditionals and loops. Practice these concepts with more exercises to strengthen your understanding. In the next session, we'll dive into functions and basic data structures."
   ]
  },
  {
   "cell_type": "code",
   "execution_count": null,
   "id": "c0b1719a",
   "metadata": {},
   "outputs": [],
   "source": []
  },
  {
   "cell_type": "code",
   "execution_count": null,
   "id": "3d155899",
   "metadata": {},
   "outputs": [],
   "source": []
  }
 ],
 "metadata": {
  "kernelspec": {
   "display_name": "Python 3 (ipykernel)",
   "language": "python",
   "name": "python3"
  },
  "language_info": {
   "codemirror_mode": {
    "name": "ipython",
    "version": 3
   },
   "file_extension": ".py",
   "mimetype": "text/x-python",
   "name": "python",
   "nbconvert_exporter": "python",
   "pygments_lexer": "ipython3",
   "version": "3.10.9"
  }
 },
 "nbformat": 4,
 "nbformat_minor": 5
}
