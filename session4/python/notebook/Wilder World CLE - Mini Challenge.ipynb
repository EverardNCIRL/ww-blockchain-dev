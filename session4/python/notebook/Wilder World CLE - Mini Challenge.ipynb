{
 "cells": [
  {
   "cell_type": "markdown",
   "id": "d50b30c9",
   "metadata": {},
   "source": [
    "# Lesson 4 : Mini Challenge\n",
    "\n",
    "Use what you learned in Lesson 1 to claim testnet tokens from an airdrop contract\n",
    "\n",
    "You will need to copy and paste the code from there into this notebook.\n",
    "\n",
    "Make sure you create a new wallet using Metamask since we will be handling the private key in code\n",
    "\n",
    "There is one new thing we are learning this week: how to interact with a contract. An example is below, you will need to integrate this with the code you write\n"
   ]
  },
  {
   "cell_type": "markdown",
   "id": "b5c4d69d",
   "metadata": {},
   "source": [
    "### Interacting with a contract"
   ]
  },
  {
   "cell_type": "code",
   "execution_count": 2,
   "id": "94046df6",
   "metadata": {},
   "outputs": [],
   "source": [
    "from web3 import Web3\n",
    "from datetime import datetime\n",
    "\n",
    "import urllib\n",
    "import json\n",
    "import pandas as pd"
   ]
  },
  {
   "cell_type": "code",
   "execution_count": null,
   "id": "7aaeef6a",
   "metadata": {},
   "outputs": [],
   "source": [
    "#GAS_AMOUNT = 500000\n",
    "#MAX_GAS_PRICE = '40'\n",
    "#PRIORITY_FEE = '2.5'\n",
    "\n",
    "def send_mint_tx(wallet, private_key, num_wapes, contract, salesprice,\n",
    "                GAS_AMOUNT, MAX_GAS_PRICE, PRIORITY_FEE):\n",
    "    # Get price\n",
    "    #===================================================\n",
    "    saleStarted = contract.functions.saleStarted().call()\n",
    "    #===================================================\n",
    "    if not saleStarted:\n",
    "        print(f\"FATAL ERROR: sale has not started\")        \n",
    "        return (False, 0)   \n",
    "    \n",
    "    balance = w3.eth.getBalance(wallet)\n",
    "    \n",
    "    total_amt = num_wapes * salesprice\n",
    "    \n",
    "    #check sufficient balance\n",
    "    total_amt_eth = w3.fromWei(total_amt, \"ether\")\n",
    "    balance_eth = w3.fromWei(balance, \"ether\")\n",
    "    if balance < total_amt:\n",
    "        print(f\"FATAL ERROR: insufficient balance: need {total_amt_eth} \"\n",
    "              f\"but balance is only {balance_eth}\")\n",
    "        \n",
    "        return (False, 0)\n",
    "        \n",
    "    nonce = w3.eth.getTransactionCount(wallet)\n",
    "\n",
    "    # Call your function\n",
    "    #===================================================\n",
    "    call_function = contract.functions.purchaseDomainsPublicSale(num_wapes).buildTransaction(\n",
    "        {\"chainId\": w3.eth.chain_id, \n",
    "         \"from\": wallet, \n",
    "         \"nonce\": nonce, \n",
    "         'gas': GAS_AMOUNT,\n",
    "         'value' : total_amt,\n",
    "         'maxFeePerGas': w3.toWei(MAX_GAS_PRICE, 'gwei'),\n",
    "         'maxPriorityFeePerGas': w3.toWei(PRIORITY_FEE, 'gwei'),})\n",
    "    #===================================================\n",
    "\n",
    "    # Sign transaction\n",
    "    signed_tx = w3.eth.account.sign_transaction(call_function, private_key=private_key)\n",
    "\n",
    "    print(f\"About to public mint on chainid {w3.eth.chain_id}, {num_wapes} wapes on wallet {wallet}\")\n",
    "    \n",
    "    # Send transaction\n",
    "    send_tx = w3.eth.send_raw_transaction(signed_tx.rawTransaction)\n",
    "    return (True, send_tx)"
   ]
  },
  {
   "cell_type": "markdown",
   "id": "f72eba44",
   "metadata": {},
   "source": [
    "### Load our API keys \n",
    "\n",
    "To avoid putting api keys on github where they can be read, you can create a .env file in the ww-blockchain-dev root folder.\n",
    "Put your api keys in there, in the format:\n",
    "\n",
    "<b>ETHERSCAN_API=...</b><br>\n",
    "<b>ALCHEMY_API=...</b><br>\n",
    "<b>MORALIS_API=...</b><br>"
   ]
  },
  {
   "cell_type": "code",
   "execution_count": 2,
   "id": "3493ea7c",
   "metadata": {},
   "outputs": [],
   "source": [
    "with open(\"..\\..\\.env\", \"r\") as f:\n",
    "    keys = f.read().splitlines()\n",
    "    \n",
    "for key in keys:\n",
    "    if \"ETHERSCAN_API\" in key: etherscan_apikey = key.split('=')[1]\n",
    "    if \"ALCHEMY_API\" in key: alchemy_apikey = key.split('=')[1]\n",
    "    if \"MORALIS_API\" in key: moralis_key = key.split('=')[1]\n",
    "    "
   ]
  },
  {
   "cell_type": "markdown",
   "id": "c67df7cf",
   "metadata": {},
   "source": [
    "### Connect to the Alchemy provider\n",
    "To interact with the Ethereum blockchain, we either need to run a geth node on our machine, or we can use a third party provider like Alchemy or Infura"
   ]
  },
  {
   "cell_type": "code",
   "execution_count": 5,
   "id": "c141c290",
   "metadata": {},
   "outputs": [
    {
     "name": "stdout",
     "output_type": "stream",
     "text": [
      "True\n"
     ]
    }
   ],
   "source": [
    "wss = f'wss://eth-mainnet.g.alchemy.com/v2/{alchemy_apikey}'\n",
    "w3 = Web3(Web3.WebsocketProvider(wss))\n",
    "\n",
    "print(w3.is_connected())"
   ]
  },
  {
   "cell_type": "code",
   "execution_count": 6,
   "id": "9e2eeed8",
   "metadata": {},
   "outputs": [
    {
     "data": {
      "text/plain": [
       "1"
      ]
     },
     "execution_count": 6,
     "metadata": {},
     "output_type": "execute_result"
    }
   ],
   "source": [
    "#We should be connected to chain_id 1, i.e. Ethereum mainnet\n",
    "w3.eth.chain_id"
   ]
  },
  {
   "cell_type": "markdown",
   "id": "19fa4ec4",
   "metadata": {},
   "source": [
    "### Token contract addresses \n",
    "\n",
    "Note that we have two addresses: a contract address which is actually a proxy, that delegates to the actual implementation contract where all the Solidity code is.\n",
    "\n",
    "Delegation allows us to \"upgrade\" our smart contracts by repointing to a new implementation contract if the code changes (but note there are dangers with delegation that we need to be aware of)"
   ]
  },
  {
   "cell_type": "code",
   "execution_count": 7,
   "id": "2b82400d",
   "metadata": {},
   "outputs": [],
   "source": [
    "# $WILD Contract Address\n",
    "wild_contract = '0x2a3bff78b79a009976eea096a51a948a3dc00e34'\n",
    "# Implementation Address\n",
    "wild_implementation_contract = '0x67aac030b59d266e754b0b24af9cc77ec2534a37'"
   ]
  },
  {
   "cell_type": "markdown",
   "id": "b7dc6914",
   "metadata": {},
   "source": [
    "### Load the ABI (Application Binary Interface)\n",
    "\n",
    "The ABI defines all the functions and function parameters of the smart contract. We need this info if we want to make calls to the contract"
   ]
  },
  {
   "cell_type": "code",
   "execution_count": 8,
   "id": "74cf199b",
   "metadata": {},
   "outputs": [],
   "source": [
    "abi_endpoint = f\"https://api.etherscan.io/api?module=contract&action=getabi&address={wild_implementation_contract}&apikey={etherscan_apikey}\"\n",
    "\n",
    "# Get the abi in json format from the etherscan API and decode it\n",
    "with urllib.request.urlopen(abi_endpoint) as url:\n",
    "    abi = json.loads(url.read().decode())\n",
    "\n",
    "# Load this into the web3 contract object\n",
    "checksum_addr = Web3.to_checksum_address(wild_contract)\n",
    "contract = w3.eth.contract(address=checksum_addr, abi=abi[\"result\"])\n"
   ]
  },
  {
   "cell_type": "code",
   "execution_count": 10,
   "id": "71ab989f",
   "metadata": {},
   "outputs": [
    {
     "data": {
      "text/plain": [
       "500000000000000000000000000"
      ]
     },
     "execution_count": 10,
     "metadata": {},
     "output_type": "execute_result"
    }
   ],
   "source": [
    "contract.functions.totalSupply().call()"
   ]
  },
  {
   "cell_type": "code",
   "execution_count": 11,
   "id": "7c4d5e4d",
   "metadata": {},
   "outputs": [
    {
     "data": {
      "text/plain": [
       "'Wilder'"
      ]
     },
     "execution_count": 11,
     "metadata": {},
     "output_type": "execute_result"
    }
   ],
   "source": [
    "contract.functions.name().call()"
   ]
  },
  {
   "cell_type": "code",
   "execution_count": 12,
   "id": "fa9a1da8",
   "metadata": {},
   "outputs": [
    {
     "data": {
      "text/plain": [
       "'WILD'"
      ]
     },
     "execution_count": 12,
     "metadata": {},
     "output_type": "execute_result"
    }
   ],
   "source": [
    "contract.functions.symbol().call()"
   ]
  }
 ],
 "metadata": {
  "kernelspec": {
   "display_name": "Python 3 (ipykernel)",
   "language": "python",
   "name": "python3"
  },
  "language_info": {
   "codemirror_mode": {
    "name": "ipython",
    "version": 3
   },
   "file_extension": ".py",
   "mimetype": "text/x-python",
   "name": "python",
   "nbconvert_exporter": "python",
   "pygments_lexer": "ipython3",
   "version": "3.8.16"
  }
 },
 "nbformat": 4,
 "nbformat_minor": 5
}
