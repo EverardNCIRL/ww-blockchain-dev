{
 "cells": [
  {
   "cell_type": "markdown",
   "id": "d50b30c9",
   "metadata": {},
   "source": [
    "# Lesson 4 : Mini Challenge\n",
    "\n",
    "Use what you learned in Session 1 to claim testnet tokens from the Whipz sale contract which we saw in Session 3\n",
    "\n",
    "You will need to copy and paste some of the code from there into this notebook (or somewhere else if you prefer)\n",
    "\n",
    "Make sure you create a new wallet using Metamask since we will be handling the private key in code\n",
    "\n",
    "There is one new thing we are learning this week: how to interact with a contract. You will see the code example below, you will need to integrate this with the code you write\n"
   ]
  },
  {
   "cell_type": "markdown",
   "id": "1ecde26a",
   "metadata": {},
   "source": [
    "# Some other useful info\n",
    "\n",
    "Here is the contract address of the Whipz token sale contract\n",
    "\n",
    "```python\n",
    "whipz_contract = '0x856820ee9EE8137D1c651689Ab6D548f5ac81fA1'\n",
    "```\n",
    "\n",
    "Use this url to connect to the alchemy sepolia websocket provider\n",
    "\n",
    "```python\n",
    "wss = f'wss://eth-sepolia.g.alchemy.com/v2/{alchemy_apikey}'\n",
    "```\n",
    "\n",
    "Check that your chain id is 11155111, i.e. Ethereum sepolia chainid\n",
    "\n",
    "```python\n",
    "w3.eth.chain_id\n",
    "```\n",
    "\n",
    "For the etherscan sepolia API, which we use to load the abi, use this url\n",
    "\n",
    "```python\n",
    "abi_endpoint = f\"https://api-sepolia.etherscan.io/api?module=contract&action=getabi&address={whipz_contract}&apikey={etherscan_apikey}\"\n",
    "```"
   ]
  },
  {
   "cell_type": "markdown",
   "id": "b5c4d69d",
   "metadata": {},
   "source": [
    "### Interacting with a contract"
   ]
  },
  {
   "cell_type": "code",
   "execution_count": 8,
   "id": "dfa521d8",
   "metadata": {},
   "outputs": [],
   "source": [
    "#For testnet you should be able to use these values\n",
    "#GAS_AMOUNT = 500000\n",
    "#MAX_GAS_PRICE = '40'\n",
    "#PRIORITY_FEE = '2.5'\n",
    "\n",
    "def send_tx(wallet, pvtkey, contract, amount_eth, GAS_AMOUNT, MAX_GAS_PRICE, PRIORITY_FEE):\n",
    "    \n",
    "    # Check wallet balance    \n",
    "    balance = w3.from_wei(w3.eth.get_balance(wallet), \"ether\")\n",
    "    print(f\"Current wallet balance is {balance}\")\n",
    "    \n",
    "    # We always need to pass the nonce (current transaction count) to a new tx\n",
    "    nonce = w3.eth.get_transaction_count(wallet)\n",
    "\n",
    "    # amount_eth is the amount of eth we want to spend, eg 0.01. \n",
    "    # we need to convert this to wei\n",
    "    payable_amt_wei = w3.to_wei(amount_eth, \"ether\")\n",
    "    \n",
    "    # Call your function\n",
    "    #===================================================\n",
    "    call_function = contract.functions.buyTokens(wallet).build_transaction(\n",
    "        {\"chainId\": w3.eth.chain_id, \n",
    "         \"from\": wallet, \n",
    "         \"nonce\": nonce, \n",
    "         'gas': GAS_AMOUNT,\n",
    "         'value' : payable_amt_wei,\n",
    "         'maxFeePerGas': w3.to_wei(MAX_GAS_PRICE, 'gwei'),\n",
    "         'maxPriorityFeePerGas': w3.to_wei(PRIORITY_FEE, 'gwei'),})\n",
    "    #===================================================\n",
    "\n",
    "    # Sign transaction\n",
    "    signed_tx = w3.eth.account.sign_transaction(call_function, private_key=pvtkey)\n",
    "    \n",
    "    # Send transaction\n",
    "    send_tx = w3.eth.send_raw_transaction(signed_tx.rawTransaction)\n",
    "    return send_tx"
   ]
  },
  {
   "cell_type": "code",
   "execution_count": null,
   "id": "f7460bc2",
   "metadata": {},
   "outputs": [],
   "source": []
  }
 ],
 "metadata": {
  "kernelspec": {
   "display_name": "Python 3 (ipykernel)",
   "language": "python",
   "name": "python3"
  },
  "language_info": {
   "codemirror_mode": {
    "name": "ipython",
    "version": 3
   },
   "file_extension": ".py",
   "mimetype": "text/x-python",
   "name": "python",
   "nbconvert_exporter": "python",
   "pygments_lexer": "ipython3",
   "version": "3.10.9"
  }
 },
 "nbformat": 4,
 "nbformat_minor": 5
}
