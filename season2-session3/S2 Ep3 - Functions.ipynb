{
 "cells": [
  {
   "cell_type": "markdown",
   "id": "413b52b0",
   "metadata": {},
   "source": [
    "# **Session 3: Functions and Basic Data Structures**\n",
    "\n",
    "## **1. Functions**\n",
    "\n",
    "### **What is a Function?**\n",
    "A function is a reusable block of code that performs a specific task. Functions help you to avoid repetition and make your code more organized.\n",
    "\n",
    "In Python, functions are defined using the `def` keyword.\n",
    "\n",
    "### **Syntax of a Function**\n",
    "```python\n",
    "def function_name(parameters):\n",
    "    # code block\n",
    "    return output\n",
    "```\n",
    "\n",
    "- **def**: Keyword that defines the function.\n",
    "- **function_name**: A unique name to identify the function.\n",
    "- **parameters**: Optional. The input values to the function.\n",
    "- **return**: Optional. Returns a value as output.\n",
    "\n"
   ]
  },
  {
   "cell_type": "markdown",
   "id": "3a68f22a",
   "metadata": {},
   "source": [
    "### Example of a Simple Function"
   ]
  },
  {
   "cell_type": "code",
   "execution_count": 2,
   "id": "604b6d14",
   "metadata": {},
   "outputs": [
    {
     "name": "stdout",
     "output_type": "stream",
     "text": [
      "8\n"
     ]
    }
   ],
   "source": [
    "# Function to add two numbers\n",
    "def add_numbers(a, b):\n",
    "    return a + b\n",
    "\n",
    "result = add_numbers(5, 3)\n",
    "print(result)  # Output: 8\n"
   ]
  },
  {
   "cell_type": "markdown",
   "id": "f8a1e664",
   "metadata": {},
   "source": [
    "### Function Parameters and Return Values\n",
    "\n",
    "You can pass values to a function (called parameters), and it can return a value using the return statement."
   ]
  },
  {
   "cell_type": "code",
   "execution_count": 5,
   "id": "1422e5b4",
   "metadata": {},
   "outputs": [
    {
     "name": "stdout",
     "output_type": "stream",
     "text": [
      "Hello, Alice!\n"
     ]
    }
   ],
   "source": [
    "# Function with parameters\n",
    "def greet_user(name):\n",
    "    return f\"Hello, {name}!\"\n",
    "\n",
    "message = greet_user(\"Alice\")\n",
    "print(message)  # Output: Hello, Alice!\n"
   ]
  },
  {
   "cell_type": "markdown",
   "id": "1557098e",
   "metadata": {},
   "source": [
    "### Positional and Keyword Arguments\n",
    "- Positional arguments are the default way of passing arguments.\n",
    "- Keyword arguments allow you to specify values by name, making the function call more readable."
   ]
  },
  {
   "cell_type": "code",
   "execution_count": null,
   "id": "2c313a03",
   "metadata": {},
   "outputs": [],
   "source": [
    "# Example of keyword arguments\n",
    "def describe_pet(animal_type, pet_name):\n",
    "    print(f\"I have a {animal_type} named {pet_name}.\")\n",
    "\n",
    "describe_pet(pet_name=\"Buddy\", animal_type=\"dog\")\n"
   ]
  },
  {
   "cell_type": "markdown",
   "id": "4bc97ccc",
   "metadata": {},
   "source": [
    "### Default Values in Functions\n",
    "You can define default values for function parameters. \n",
    "If no argument is passed for that parameter, the default value is used."
   ]
  },
  {
   "cell_type": "code",
   "execution_count": null,
   "id": "21df633b",
   "metadata": {},
   "outputs": [],
   "source": [
    "# Function with default parameter values\n",
    "def describe_city(city, country=\"USA\"):\n",
    "    print(f\"{city} is in {country}.\")\n",
    "\n",
    "describe_city(\"New York\")       # Output: New York is in USA.\n",
    "describe_city(\"Paris\", \"France\")  # Output: Paris is in France.\n"
   ]
  },
  {
   "cell_type": "markdown",
   "id": "ba0f5e2c",
   "metadata": {},
   "source": [
    "### Exercise 1: Write a Function with Default Parameters\n",
    "Write a function make_sandwich that takes \n",
    "- two required parameters: bread_type and filling, \n",
    "- one optional parameter sauce (default is \"ketchup\"). \n",
    "\n",
    "The function should return a string describing the sandwich."
   ]
  },
  {
   "cell_type": "code",
   "execution_count": null,
   "id": "8e451921",
   "metadata": {},
   "outputs": [],
   "source": []
  },
  {
   "cell_type": "code",
   "execution_count": null,
   "id": "7e4ee52b",
   "metadata": {},
   "outputs": [],
   "source": []
  },
  {
   "cell_type": "markdown",
   "id": "6bff8faa",
   "metadata": {},
   "source": [
    "\n",
    "\n",
    "## **2. Basic Data Structures**\n",
    "\n",
    "Python provides built-in data structures that are highly flexible and powerful for organizing and storing data. We will cover these key data structures in Python:\n",
    "- **Lists**\n",
    "- **Dictionaries**\n",
    "\n",
    "### **2.1 Lists**\n",
    "A **list** is an ordered, mutable collection of items. Lists can store different types of data (integers, strings, objects, etc.) and can be modified after creation.\n",
    "\n",
    "#### **Creating a List**\n",
    "\n",
    "```python\n",
    "my_list = [1, 2, 3, \"hello\", 5.5]\n",
    "```"
   ]
  },
  {
   "cell_type": "markdown",
   "id": "f030bd27",
   "metadata": {},
   "source": [
    "### Accessing List Elements"
   ]
  },
  {
   "cell_type": "code",
   "execution_count": 12,
   "id": "ec99a084",
   "metadata": {},
   "outputs": [
    {
     "name": "stdout",
     "output_type": "stream",
     "text": [
      "1\n",
      "hello\n",
      "5.5\n"
     ]
    }
   ],
   "source": [
    "my_list = [1, 2, 3, \"hello\", 5.5]\n",
    "print(my_list[0])  # Output: 1\n",
    "print(my_list[3])  # Output: \"hello\"\n",
    "print(my_list[-1])  # Index -1 gets the last element of the list. Output: \"hello\"\n"
   ]
  },
  {
   "cell_type": "markdown",
   "id": "399f8f16",
   "metadata": {},
   "source": [
    "### Modifying a List\n",
    "You can modify a list by adding, removing, or changing elements."
   ]
  },
  {
   "cell_type": "code",
   "execution_count": 8,
   "id": "207d375c",
   "metadata": {},
   "outputs": [],
   "source": [
    "my_list.append(6)       # Adds 6 to the end of the list\n",
    "my_list.remove(2)       # Removes the value 2 from the list\n",
    "my_list[1] = \"new\"      # Changes the second element\n"
   ]
  },
  {
   "cell_type": "markdown",
   "id": "448c56b1",
   "metadata": {},
   "source": [
    "### Exercise 2: List Operations\n",
    "\n",
    "- Define a list of your five favourite fruits.\n",
    "- Write a function that will:\n",
    "    - Append a new fruit to the list.\n",
    "     - Replace the second fruit in the list with a new one.\n",
    "     - Remove the last fruit from the list.\n",
    "     - Print the new list"
   ]
  },
  {
   "cell_type": "code",
   "execution_count": null,
   "id": "fdf464f1",
   "metadata": {},
   "outputs": [],
   "source": []
  },
  {
   "cell_type": "code",
   "execution_count": null,
   "id": "3d6fd94c",
   "metadata": {},
   "outputs": [],
   "source": []
  },
  {
   "cell_type": "markdown",
   "id": "39ad7d9e",
   "metadata": {},
   "source": [
    "### 2.2 Dictionaries\n",
    "A dictionary is a collection of key-value pairs. Each key is unique, and values are accessed by referencing the keys."
   ]
  },
  {
   "cell_type": "markdown",
   "id": "d33cbcdf",
   "metadata": {},
   "source": [
    "### Creating a Dictionary"
   ]
  },
  {
   "cell_type": "code",
   "execution_count": 9,
   "id": "d1255308",
   "metadata": {},
   "outputs": [],
   "source": [
    "my_dict = {\n",
    "    \"name\": \"Alice\",\n",
    "    \"age\": 25,\n",
    "    \"city\": \"New York\"\n",
    "}\n"
   ]
  },
  {
   "cell_type": "markdown",
   "id": "f37e7038",
   "metadata": {},
   "source": [
    "### Accessing Dictionary Elements"
   ]
  },
  {
   "cell_type": "code",
   "execution_count": null,
   "id": "69a8d0cc",
   "metadata": {},
   "outputs": [],
   "source": [
    "print(my_dict[\"name\"])  # Output: \"Alice\"\n"
   ]
  },
  {
   "cell_type": "markdown",
   "id": "25e49bdd",
   "metadata": {},
   "source": [
    "### Modifying a Dictionary"
   ]
  },
  {
   "cell_type": "code",
   "execution_count": null,
   "id": "5fe0cf99",
   "metadata": {},
   "outputs": [],
   "source": [
    "my_dict[\"email\"] = \"alice@example.com\"  # Add new key-value pair\n",
    "my_dict[\"age\"] = 26                    # Modify existing value\n"
   ]
  },
  {
   "cell_type": "markdown",
   "id": "e7251893",
   "metadata": {},
   "source": [
    "### Exercise 3: Dictionary Operations\n",
    "- Create a dictionary that stores the details of a books (title, author, year).\n",
    "- Write a function that will:\n",
    "    - Add a new key-value pair for the genre of the book.\n",
    "    - Update the year of the book."
   ]
  },
  {
   "cell_type": "code",
   "execution_count": null,
   "id": "ddec3df3",
   "metadata": {},
   "outputs": [],
   "source": []
  }
 ],
 "metadata": {
  "kernelspec": {
   "display_name": "Python 3 (ipykernel)",
   "language": "python",
   "name": "python3"
  },
  "language_info": {
   "codemirror_mode": {
    "name": "ipython",
    "version": 3
   },
   "file_extension": ".py",
   "mimetype": "text/x-python",
   "name": "python",
   "nbconvert_exporter": "python",
   "pygments_lexer": "ipython3",
   "version": "3.10.9"
  }
 },
 "nbformat": 4,
 "nbformat_minor": 5
}
